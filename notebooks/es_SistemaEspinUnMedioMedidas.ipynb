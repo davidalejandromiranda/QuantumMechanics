{
 "cells": [
  {
   "attachments": {},
   "cell_type": "markdown",
   "metadata": {},
   "source": [
    "<h1 align=\"center\">Estado y mediciones en sistema con una partícula cuyo espín es 1/2 y pertenece a un espacio de Hilbert de dimensión dos</h1>\n",
    "<div align=\"right\">David A. Miranda, PhD<br>2023</div>"
   ]
  },
  {
   "attachments": {},
   "cell_type": "markdown",
   "metadata": {},
   "source": [
    "## 1. Cargar librería"
   ]
  },
  {
   "cell_type": "code",
   "execution_count": 1,
   "metadata": {},
   "outputs": [],
   "source": [
    "import numpy as np\n",
    "from sympy import Matrix, init_printing, re, im, nsimplify, arg, exp\n",
    "from IPython.display import display, Markdown\n",
    "from scipy.constants import hbar\n",
    "init_printing()"
   ]
  },
  {
   "attachments": {},
   "cell_type": "markdown",
   "metadata": {},
   "source": [
    "## 2. Planteamiento del problema\n",
    "\n",
    "Sea un sistema con espín $\\frac{1}{2}$ cuyo hamiltoniano está dado por $\\hat{H} = 5\\pi\\hbar \\times 10^{10} \\vert 1 \\rangle \\langle 1 \\vert$, en unidades SI, donde $\\vert 0 \\rangle$  y $\\vert 1 \\rangle$  son los vectores propios de $\\hat{H}$.  Dado el observable $\\hat{A}$, responda las siguientes preguntas, suponiendo que en el tiempo $t=0 ps$ el estado del sistema es |1⟩.\n",
    "\n",
    "$$\\hat{A}_1 = \\hat{S}_x = \\vert 0 \\rangle \\langle 1 \\vert + \\vert 1 \\rangle \\langle 0 \\vert$$\n",
    "\n",
    "$$\\hat{A}_2 = \\hat{S}_y = -i \\vert 0 \\rangle \\langle 1 \\vert + i \\vert 1 \\rangle \\langle 0 \\vert $$\n",
    "\n",
    "$$\\hat{A}_3 = 3 \\vert 0 \\rangle \\langle 0 \\vert + \\vert 0 \\rangle \\langle 1 \\vert + \\vert 1 \\rangle \\langle 0 \\vert + 3 \\vert 1 \\rangle \\langle 1 \\vert $$\n",
    "\n",
    "$$ \\hat{A}_4 = 3 \\vert 0 \\rangle \\langle 0 \\vert + i \\vert 0 \\rangle \\langle 1 \\vert - i \\vert 1 \\rangle \\langle 0 \\vert + 3 \\vert 1 \\rangle \\langle 1 \\vert $$\n",
    "\n",
    "**(a)** Para $t=0 ps$, calcule las probabilidades que el sistema se encuentre en cada uno de los vectores propios del observable $\\hat{A}$ y el hamiltoniano.\n",
    "\n",
    "**(b)** Suponga que la última medición del observable $\\hat{A}$ se realizó en  $t=10 ps$. Para el tiempo $t=10 ps$  obtenga el vector de estado del sistema y calcule las probabilidades que el sistema se encuentre en cada uno de los vectores propios del observable $\\hat{A}$ y el hamiltoniano.\n",
    "\n",
    "**(c)** Suponga que la última medición del observable $\\hat{A}$ se realizó en  $t=10 ps$. Para el tiempo $t=20 ps$  obtenga el vector de estado del sistema y calcule las probabilidades que el sistema se encuentre en cada uno de los vectores propios del observable $\\hat{A}$ y el hamiltoniano.\n",
    "\n",
    "**(d)** Suponga que la última medición del observable $\\hat{A}$ se realizó en  $t=20 ps$. Para el tiempo $t=20 ps$  obtenga el vector de estado del sistema y calcule las probabilidades que el sistema se encuentre en cada uno de los vectores propios del observable $\\hat{A}$ y el hamiltoniano.\n",
    "\n",
    "**(e)** Suponga que la última medición del observable $\\hat{A}$ se realizó en  $t=20 ps$. Para el tiempo $t=40 ps$  obtenga el vector de estado del sistema y calcule las probabilidades que el sistema se encuentre en cada uno de los vectores propios del observable $\\hat{A}$ y el hamiltoniano."
   ]
  },
  {
   "attachments": {},
   "cell_type": "markdown",
   "metadata": {},
   "source": [
    "## 3. Métodos y definiciones"
   ]
  },
  {
   "cell_type": "code",
   "execution_count": 2,
   "metadata": {},
   "outputs": [],
   "source": [
    "t = 0\n",
    "E0 = 0\n",
    "E1 = 5 * np.pi * 1e10 * hbar\n",
    "Sx = Matrix([[0, 1], [1, 0]])\n",
    "Sy = Matrix([[0, -1j], [1j, 0]])\n",
    "Sz = Matrix([[1, 0], [0, -1]])\n",
    "A3 = Matrix([[3, 1], [1, 3]])\n",
    "A4 = Matrix([[3, 1j], [-1j, 3]])\n",
    "H = Matrix([[E0, 0], [0, E1]])"
   ]
  },
  {
   "cell_type": "code",
   "execution_count": 3,
   "metadata": {},
   "outputs": [],
   "source": [
    "def in_bloch_sphere(𝛙):\n",
    "    φ = arg(𝛙[0])\n",
    "    if not φ.is_finite:\n",
    "        φ = 0\n",
    "    𝛙0 = nsimplify( 𝛙[0] * exp(-1j*φ) )\n",
    "    𝛙1 = nsimplify( 𝛙[1] * exp(-1j*φ) )\n",
    "    return Matrix([𝛙0, 𝛙1])"
   ]
  },
  {
   "cell_type": "code",
   "execution_count": 4,
   "metadata": {},
   "outputs": [],
   "source": [
    "def print_state_vector(𝛙, vector_name='a_0', additional_string=''):\n",
    "    x = in_bloch_sphere(𝛙)\n",
    "    x0 = x[0]; x1 = x[1]\n",
    "    s = '+' if float(im(x1)) >= 0 else ''\n",
    "    xy = fr'${float(re(x1))}{s}{float(im(x1))} i$'\n",
    "    display(Markdown(fr'$|{vector_name}\\rangle = {x0} |0\\rangle$ + ( {xy} )$|1\\rangle$ {additional_string}'))\n",
    "    return Matrix([x0, x1])"
   ]
  },
  {
   "cell_type": "code",
   "execution_count": 5,
   "metadata": {},
   "outputs": [],
   "source": [
    "def temporal_evolution(𝛙, Δt):\n",
    "    global t\n",
    "    t += Δt\n",
    "    φ = E1 * Δt * 1e-12 / hbar\n",
    "    return Matrix([𝛙[0], 𝛙[1] * exp(1j*φ)])"
   ]
  },
  {
   "cell_type": "code",
   "execution_count": 6,
   "metadata": {},
   "outputs": [],
   "source": [
    "def get_eigen(A, vector_name='a'):\n",
    "    a0v0, a1v1 = A.eigenvects()\n",
    "    a0, _, v0 = a0v0; v0 = v0[0]/v0[0].norm()\n",
    "    a1, _, v1 = a1v1; v1 = v1[0]/v1[0].norm()\n",
    "    if a0 > a1 or a0 < 0:\n",
    "        aux = a0; a0 = a1; a1 = aux\n",
    "        aux = v0; v0 = v1; v1 = aux\n",
    "    v0 = print_state_vector(v0, vector_name=f'{vector_name}_0', additional_string=fr', ${vector_name}_0 = {a0}$')\n",
    "    v1 = print_state_vector(v1, vector_name=f'{vector_name}_1', additional_string=fr', ${vector_name}_1 = {a1}$')\n",
    "    return a0, v0, a1, v1"
   ]
  },
  {
   "cell_type": "code",
   "execution_count": 7,
   "metadata": {},
   "outputs": [],
   "source": [
    "def probability(𝛙, a, vector_name='a', verbose=True):\n",
    "    amplitude = a.dot(𝛙)\n",
    "    p = float(amplitude * amplitude.conjugate())\n",
    "    if verbose:\n",
    "        display(Markdown(fr'$|\\langle {vector_name} | \\psi \\rangle|^2 = {p}$'))\n",
    "    return p"
   ]
  },
  {
   "cell_type": "code",
   "execution_count": 8,
   "metadata": {},
   "outputs": [],
   "source": [
    "def measure(𝛙, x0, x1):\n",
    "    p = probability(𝛙, x1, verbose=False)\n",
    "    if np.random.binomial(1, p, size=1) == 0:\n",
    "        return x0\n",
    "    return x1"
   ]
  },
  {
   "attachments": {},
   "cell_type": "markdown",
   "metadata": {},
   "source": [
    "## 4. Qubit, mediciones y evolución temporal"
   ]
  },
  {
   "attachments": {},
   "cell_type": "markdown",
   "metadata": {},
   "source": [
    "### 4.1. Obtención de vectores propios"
   ]
  },
  {
   "cell_type": "code",
   "execution_count": 9,
   "metadata": {},
   "outputs": [
    {
     "data": {
      "text/markdown": [
       "### Observable ="
      ],
      "text/plain": [
       "<IPython.core.display.Markdown object>"
      ]
     },
     "metadata": {},
     "output_type": "display_data"
    },
    {
     "data": {
      "text/latex": [
       "$\\displaystyle \\left[\\begin{matrix}0 & 1\\\\1 & 0\\end{matrix}\\right]$"
      ],
      "text/plain": [
       "⎡0  1⎤\n",
       "⎢    ⎥\n",
       "⎣1  0⎦"
      ]
     },
     "metadata": {},
     "output_type": "display_data"
    },
    {
     "data": {
      "text/markdown": [
       "$|a_0\\rangle = sqrt(2)/2 |0\\rangle$ + ( $0.7071067811865476+0.0 i$ )$|1\\rangle$ , $a_0 = 1$"
      ],
      "text/plain": [
       "<IPython.core.display.Markdown object>"
      ]
     },
     "metadata": {},
     "output_type": "display_data"
    },
    {
     "data": {
      "text/markdown": [
       "$|a_1\\rangle = sqrt(2)/2 |0\\rangle$ + ( $-0.7071067811865476+0.0 i$ )$|1\\rangle$ , $a_1 = -1$"
      ],
      "text/plain": [
       "<IPython.core.display.Markdown object>"
      ]
     },
     "metadata": {},
     "output_type": "display_data"
    },
    {
     "data": {
      "text/markdown": [
       "$|E_0\\rangle = 1 |0\\rangle$ + ( $0.0+0.0 i$ )$|1\\rangle$ , $E_0 = 0$"
      ],
      "text/plain": [
       "<IPython.core.display.Markdown object>"
      ]
     },
     "metadata": {},
     "output_type": "display_data"
    },
    {
     "data": {
      "text/markdown": [
       "$|E_1\\rangle = 0 |0\\rangle$ + ( $1.0+0.0 i$ )$|1\\rangle$ , $E_1 = 1.65651753750000E-23$"
      ],
      "text/plain": [
       "<IPython.core.display.Markdown object>"
      ]
     },
     "metadata": {},
     "output_type": "display_data"
    }
   ],
   "source": [
    "A = Sx\n",
    "display(Markdown(f'### Observable ='), A)\n",
    "a0, v0, a1, v1 = get_eigen(A, vector_name='a')\n",
    "E0, q0, E1, q1 = get_eigen(H, vector_name='E')"
   ]
  },
  {
   "attachments": {},
   "cell_type": "markdown",
   "metadata": {},
   "source": [
    "### 4.2. Proceso, evolución temporal y mediciones"
   ]
  },
  {
   "attachments": {},
   "cell_type": "markdown",
   "metadata": {},
   "source": [
    "**(a)** $t = 0$ ps, $|\\psi(t=0)\\rangle = |1\\rangle$"
   ]
  },
  {
   "cell_type": "code",
   "execution_count": 10,
   "metadata": {},
   "outputs": [
    {
     "data": {
      "text/markdown": [
       "$|\\psi(t=0)\\rangle = 0 |0\\rangle$ + ( $1.0+0.0 i$ )$|1\\rangle$ "
      ],
      "text/plain": [
       "<IPython.core.display.Markdown object>"
      ]
     },
     "metadata": {},
     "output_type": "display_data"
    },
    {
     "data": {
      "text/markdown": [
       "$|\\langle a_0 | \\psi \\rangle|^2 = 0.5$"
      ],
      "text/plain": [
       "<IPython.core.display.Markdown object>"
      ]
     },
     "metadata": {},
     "output_type": "display_data"
    },
    {
     "data": {
      "text/markdown": [
       "$|\\langle a_1 | \\psi \\rangle|^2 = 0.5$"
      ],
      "text/plain": [
       "<IPython.core.display.Markdown object>"
      ]
     },
     "metadata": {},
     "output_type": "display_data"
    },
    {
     "data": {
      "text/markdown": [
       "$|\\langle E_0 | \\psi \\rangle|^2 = 0.0$"
      ],
      "text/plain": [
       "<IPython.core.display.Markdown object>"
      ]
     },
     "metadata": {},
     "output_type": "display_data"
    },
    {
     "data": {
      "text/markdown": [
       "$|\\langle E_1 | \\psi \\rangle|^2 = 1.0$"
      ],
      "text/plain": [
       "<IPython.core.display.Markdown object>"
      ]
     },
     "metadata": {},
     "output_type": "display_data"
    }
   ],
   "source": [
    "𝛙 = Matrix([0, 1])\n",
    "𝛙 = print_state_vector(𝛙, vector_name='\\psi(t=0)', additional_string='')\n",
    "_ = probability(𝛙, v0, vector_name='a_0')\n",
    "_ = probability(𝛙, v1, vector_name='a_1')\n",
    "_ = probability(𝛙, q0, vector_name='E_0')\n",
    "_ = probability(𝛙, q1, vector_name='E_1')"
   ]
  },
  {
   "attachments": {},
   "cell_type": "markdown",
   "metadata": {},
   "source": [
    "**(b)** $\\Delta t = 10$ ps"
   ]
  },
  {
   "cell_type": "code",
   "execution_count": 11,
   "metadata": {},
   "outputs": [
    {
     "data": {
      "text/markdown": [
       "$|\\psi(t=10 ps)\\rangle = sqrt(2)/2 |0\\rangle$ + ( $-0.7071067811865476+0.0 i$ )$|1\\rangle$ "
      ],
      "text/plain": [
       "<IPython.core.display.Markdown object>"
      ]
     },
     "metadata": {},
     "output_type": "display_data"
    },
    {
     "data": {
      "text/markdown": [
       "$|\\langle a_0 | \\psi \\rangle|^2 = 0.0$"
      ],
      "text/plain": [
       "<IPython.core.display.Markdown object>"
      ]
     },
     "metadata": {},
     "output_type": "display_data"
    },
    {
     "data": {
      "text/markdown": [
       "$|\\langle a_1 | \\psi \\rangle|^2 = 1.0$"
      ],
      "text/plain": [
       "<IPython.core.display.Markdown object>"
      ]
     },
     "metadata": {},
     "output_type": "display_data"
    },
    {
     "data": {
      "text/markdown": [
       "$|\\langle E_0 | \\psi \\rangle|^2 = 0.5$"
      ],
      "text/plain": [
       "<IPython.core.display.Markdown object>"
      ]
     },
     "metadata": {},
     "output_type": "display_data"
    },
    {
     "data": {
      "text/markdown": [
       "$|\\langle E_1 | \\psi \\rangle|^2 = 0.5$"
      ],
      "text/plain": [
       "<IPython.core.display.Markdown object>"
      ]
     },
     "metadata": {},
     "output_type": "display_data"
    }
   ],
   "source": [
    "𝛙 = temporal_evolution(𝛙, 10)\n",
    "𝛙 = measure(𝛙, v0, v1)\n",
    "𝛙 = print_state_vector(𝛙, vector_name=f'\\psi(t={t} ps)', additional_string='')\n",
    "_ = probability(𝛙, v0, vector_name='a_0')\n",
    "_ = probability(𝛙, v1, vector_name='a_1')\n",
    "_ = probability(𝛙, q0, vector_name='E_0')\n",
    "_ = probability(𝛙, q1, vector_name='E_1')"
   ]
  },
  {
   "attachments": {},
   "cell_type": "markdown",
   "metadata": {},
   "source": [
    "**(c)** $\\Delta t = 10 ps$"
   ]
  },
  {
   "cell_type": "code",
   "execution_count": 12,
   "metadata": {},
   "outputs": [
    {
     "data": {
      "text/markdown": [
       "$|\\psi(t=20 ps)\\rangle = sqrt(2)/2 |0\\rangle$ + ( $2.3905644580549233e-15-0.7071067811865476 i$ )$|1\\rangle$ "
      ],
      "text/plain": [
       "<IPython.core.display.Markdown object>"
      ]
     },
     "metadata": {},
     "output_type": "display_data"
    },
    {
     "data": {
      "text/markdown": [
       "$|\\langle a_0 | \\psi \\rangle|^2 = 0.5000000000000017$"
      ],
      "text/plain": [
       "<IPython.core.display.Markdown object>"
      ]
     },
     "metadata": {},
     "output_type": "display_data"
    },
    {
     "data": {
      "text/markdown": [
       "$|\\langle a_1 | \\psi \\rangle|^2 = 0.49999999999999833$"
      ],
      "text/plain": [
       "<IPython.core.display.Markdown object>"
      ]
     },
     "metadata": {},
     "output_type": "display_data"
    },
    {
     "data": {
      "text/markdown": [
       "$|\\langle E_0 | \\psi \\rangle|^2 = 0.5$"
      ],
      "text/plain": [
       "<IPython.core.display.Markdown object>"
      ]
     },
     "metadata": {},
     "output_type": "display_data"
    },
    {
     "data": {
      "text/markdown": [
       "$|\\langle E_1 | \\psi \\rangle|^2 = 0.5$"
      ],
      "text/plain": [
       "<IPython.core.display.Markdown object>"
      ]
     },
     "metadata": {},
     "output_type": "display_data"
    }
   ],
   "source": [
    "𝛙 = temporal_evolution(𝛙, 10)\n",
    "𝛙 = print_state_vector(𝛙, vector_name=f'\\psi(t={t} ps)', additional_string='')\n",
    "_ = probability(𝛙, v0, vector_name='a_0')\n",
    "_ = probability(𝛙, v1, vector_name='a_1')\n",
    "_ = probability(𝛙, q0, vector_name='E_0')\n",
    "_ = probability(𝛙, q1, vector_name='E_1')"
   ]
  },
  {
   "attachments": {},
   "cell_type": "markdown",
   "metadata": {},
   "source": [
    "**(d)** $\\Delta t = 0 ps$"
   ]
  },
  {
   "cell_type": "code",
   "execution_count": 13,
   "metadata": {},
   "outputs": [
    {
     "data": {
      "text/markdown": [
       "$|\\psi(t=20 ps)\\rangle = sqrt(2)/2 |0\\rangle$ + ( $0.7071067811865476+0.0 i$ )$|1\\rangle$ "
      ],
      "text/plain": [
       "<IPython.core.display.Markdown object>"
      ]
     },
     "metadata": {},
     "output_type": "display_data"
    },
    {
     "data": {
      "text/markdown": [
       "$|\\langle a_0 | \\psi \\rangle|^2 = 1.0$"
      ],
      "text/plain": [
       "<IPython.core.display.Markdown object>"
      ]
     },
     "metadata": {},
     "output_type": "display_data"
    },
    {
     "data": {
      "text/markdown": [
       "$|\\langle a_1 | \\psi \\rangle|^2 = 0.0$"
      ],
      "text/plain": [
       "<IPython.core.display.Markdown object>"
      ]
     },
     "metadata": {},
     "output_type": "display_data"
    },
    {
     "data": {
      "text/markdown": [
       "$|\\langle E_0 | \\psi \\rangle|^2 = 0.5$"
      ],
      "text/plain": [
       "<IPython.core.display.Markdown object>"
      ]
     },
     "metadata": {},
     "output_type": "display_data"
    },
    {
     "data": {
      "text/markdown": [
       "$|\\langle E_1 | \\psi \\rangle|^2 = 0.5$"
      ],
      "text/plain": [
       "<IPython.core.display.Markdown object>"
      ]
     },
     "metadata": {},
     "output_type": "display_data"
    }
   ],
   "source": [
    "𝛙 = measure(𝛙, v0, v1)\n",
    "𝛙 = print_state_vector(𝛙, vector_name=f'\\psi(t={t} ps)', additional_string='')\n",
    "_ = probability(𝛙, v0, vector_name='a_0')\n",
    "_ = probability(𝛙, v1, vector_name='a_1')\n",
    "_ = probability(𝛙, q0, vector_name='E_0')\n",
    "_ = probability(𝛙, q1, vector_name='E_1')"
   ]
  },
  {
   "attachments": {},
   "cell_type": "markdown",
   "metadata": {},
   "source": [
    "**(e)** $\\Delta t = 20 ps$"
   ]
  },
  {
   "cell_type": "code",
   "execution_count": 14,
   "metadata": {},
   "outputs": [
    {
     "data": {
      "text/markdown": [
       "$|\\psi(t=40 ps)\\rangle = sqrt(2)/2 |0\\rangle$ + ( $-0.7071067811865476+2.289938895755629e-15 i$ )$|1\\rangle$ "
      ],
      "text/plain": [
       "<IPython.core.display.Markdown object>"
      ]
     },
     "metadata": {},
     "output_type": "display_data"
    },
    {
     "data": {
      "text/markdown": [
       "$|\\langle a_0 | \\psi \\rangle|^2 = 2.6219100731472545e-30$"
      ],
      "text/plain": [
       "<IPython.core.display.Markdown object>"
      ]
     },
     "metadata": {},
     "output_type": "display_data"
    },
    {
     "data": {
      "text/markdown": [
       "$|\\langle a_1 | \\psi \\rangle|^2 = 1.0$"
      ],
      "text/plain": [
       "<IPython.core.display.Markdown object>"
      ]
     },
     "metadata": {},
     "output_type": "display_data"
    },
    {
     "data": {
      "text/markdown": [
       "$|\\langle E_0 | \\psi \\rangle|^2 = 0.5$"
      ],
      "text/plain": [
       "<IPython.core.display.Markdown object>"
      ]
     },
     "metadata": {},
     "output_type": "display_data"
    },
    {
     "data": {
      "text/markdown": [
       "$|\\langle E_1 | \\psi \\rangle|^2 = 0.5$"
      ],
      "text/plain": [
       "<IPython.core.display.Markdown object>"
      ]
     },
     "metadata": {},
     "output_type": "display_data"
    }
   ],
   "source": [
    "𝛙 = temporal_evolution(𝛙, 20)\n",
    "𝛙 = print_state_vector(𝛙, vector_name=f'\\psi(t={t} ps)', additional_string='')\n",
    "_ = probability(𝛙, v0, vector_name='a_0')\n",
    "_ = probability(𝛙, v1, vector_name='a_1')\n",
    "_ = probability(𝛙, q0, vector_name='E_0')\n",
    "_ = probability(𝛙, q1, vector_name='E_1')"
   ]
  },
  {
   "attachments": {},
   "cell_type": "markdown",
   "metadata": {},
   "source": [
    "## 5. Preguntas de autoexplicación"
   ]
  },
  {
   "attachments": {},
   "cell_type": "markdown",
   "metadata": {},
   "source": [
    "### 5.1. Primer bloque de preguntas\n",
    "\n",
    "5.1.1. Describa el problema resuelto en este *Worked Example*.\n",
    "\n",
    "5.1.2. Realice un esquema del proceso implícito en las preguntas resueltas en este *Worked Example*.\n",
    "\n",
    "5.1.3. ¿Cómo se obtiene la representación matricial, así como los vectores y valores propios de cada uno de los operadores?\n",
    "\n",
    "5.1.4. ¿Qué diferencia existe en primero medir y luego estimar las probabilidades a realizar el proceso al reves, es decir, estimar las probabilidades y luego medir?\n",
    "\n",
    "5.1.5. Explique cómo se aplica cada uno de los postulados de la mecánica cuántica en este *Worked Example*."
   ]
  },
  {
   "attachments": {},
   "cell_type": "markdown",
   "metadata": {},
   "source": [
    "### 5.2. Segundo bloque de preguntas\n",
    "\n",
    "5.2.1. Explique el propósito del método *in_block_sphere*.\n",
    "\n",
    "5.2.2. Explique el propósito del método *print_state_vector*.\n",
    "\n",
    "5.2.3. Deduzca las expresiones usadas en *temporal_evolution* para obtener la evolución temporal y explique su implementación.\n",
    "\n",
    "5.2.4. Calcule a mano los valores y vectores propios del operador $\\hat{A}$. Compare su respuesta con la obtenida con el método *get_eigen* e interprete las similitudes y diferencias.\n",
    "\n",
    "5.2.5. Explique como se obtiene la probabilidad con el método *probability* y cómo se realiza el proceso de medición con *measure*. Argumente su respuesta."
   ]
  },
  {
   "attachments": {},
   "cell_type": "markdown",
   "metadata": {},
   "source": [
    "### 5.3. Tercer bloque de preguntas\n",
    "\n",
    "5.3.1. Calcule a mano las probabilidades del ítem **(a)** y compare el resultado con el obtenido en este *Worked Example*.\n",
    "\n",
    "5.3.2. Calcule a mano las probabilidades del ítem **(b)** y compare el resultado con el obtenido en este *Worked Example*.\n",
    "\n",
    "5.3.3. Calcule a mano las probabilidades del ítem **(c)** y compare el resultado con el obtenido en este *Worked Example*.\n",
    "\n",
    "5.3.4. Calcule a mano las probabilidades del ítem **(d)** y compare el resultado con el obtenido en este *Worked Example*.\n",
    "\n",
    "5.3.5. Calcule a mano las probabilidades del ítem **(e)** y compare el resultado con el obtenido en este *Worked Example*."
   ]
  },
  {
   "attachments": {},
   "cell_type": "markdown",
   "metadata": {},
   "source": [
    "End!"
   ]
  }
 ],
 "metadata": {
  "kernelspec": {
   "display_name": "Python 3",
   "language": "python",
   "name": "python3"
  },
  "language_info": {
   "codemirror_mode": {
    "name": "ipython",
    "version": 3
   },
   "file_extension": ".py",
   "mimetype": "text/x-python",
   "name": "python",
   "nbconvert_exporter": "python",
   "pygments_lexer": "ipython3",
   "version": "3.9.12"
  },
  "orig_nbformat": 4
 },
 "nbformat": 4,
 "nbformat_minor": 2
}
