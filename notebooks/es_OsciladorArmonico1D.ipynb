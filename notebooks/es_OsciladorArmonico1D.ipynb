{
 "cells": [
  {
   "attachments": {},
   "cell_type": "markdown",
   "metadata": {},
   "source": [
    "<h1 align=\"center\">Oscilador armónico cuántico unidimensional</h1>\n",
    "<div align=\"right\">David A. Miranda, PhD<br>2023</div>"
   ]
  },
  {
   "attachments": {},
   "cell_type": "markdown",
   "metadata": {},
   "source": [
    "## 1. Cargar librería"
   ]
  },
  {
   "cell_type": "code",
   "execution_count": null,
   "metadata": {},
   "outputs": [],
   "source": [
    "import plotly.graph_objs as go\n",
    "import numpy as np\n",
    "from scipy.constants import hbar\n",
    "from scipy.constants import e as q_e\n",
    "from scipy.constants import m_e"
   ]
  },
  {
   "attachments": {},
   "cell_type": "markdown",
   "metadata": {},
   "source": [
    "## 2. Planteamiento del problema\n",
    "\n",
    "Sea un oscilador armónico cuántico unidimensional descrito por el hamiltoniano $\\hat{H} = \\frac{1}{2m} \\hat{p}^2 + \\frac{m \\omega^2}{2} \\hat{x}^2$. Grafique las funciones de onda $\\varphi_n(x) = \\langle x | n \\rangle$ y las densidades de probabilidad $|\\varphi_n|^2$, para un cierto estado de energía $|n\\rangle$, donde,\n",
    "\n",
    "$$ \\varphi_n(x) = \\sqrt{ \\frac{1}{2^n n!} \\left( \\frac{\\hbar}{m\\omega} \\right)^n \\left( \\frac{m\\omega}{\\pi \\hbar} \\right)^{1/2}} \\left( \\frac{m\\omega}{\\hbar}  x - \\frac{d}{dx} \\right)^n e^{- \\frac{m\\omega}{2\\hbar} x^2}$$"
   ]
  },
  {
   "attachments": {},
   "cell_type": "markdown",
   "metadata": {},
   "source": [
    "## 3. Métodos y definiciones"
   ]
  },
  {
   "cell_type": "code",
   "execution_count": null,
   "metadata": {},
   "outputs": [],
   "source": [
    "m = m_e\n",
    "omega = q_e * 15 / hbar"
   ]
  },
  {
   "cell_type": "code",
   "execution_count": null,
   "metadata": {},
   "outputs": [],
   "source": [
    "def phi_n(x, n, m=m, omega=omega):\n",
    "    fx = m * omega / hbar\n",
    "    φ = np.exp(- m * omega * x**2 / (2*hbar))\n",
    "    for i in range(n):\n",
    "        φ = fx * x * φ - np.gradient(φ, x)\n",
    "    return φ / np.sqrt(np.trapz(φ**2, x))"
   ]
  },
  {
   "attachments": {},
   "cell_type": "markdown",
   "metadata": {},
   "source": [
    "## 4. Funciones de onda y densidades de probabilidad"
   ]
  },
  {
   "cell_type": "code",
   "execution_count": null,
   "metadata": {},
   "outputs": [],
   "source": [
    "x = np.linspace(-1e-9, 1e-9, 1000)"
   ]
  },
  {
   "cell_type": "code",
   "execution_count": null,
   "metadata": {},
   "outputs": [],
   "source": [
    "n = 0\n",
    "fig = go.Figure(data=go.Scatter(x=x, y=phi_n(x, n), mode='markers'))\n",
    "fig.update_layout(\n",
    "    xaxis_title='x [m]',\n",
    "    yaxis_title=r'φ(x)',\n",
    "    title=f'Figura 1. Función de onda para n={n}.'\n",
    ")\n",
    "fig.show()"
   ]
  },
  {
   "cell_type": "code",
   "execution_count": null,
   "metadata": {},
   "outputs": [],
   "source": [
    "fig = go.Figure()\n",
    "ymax = 0\n",
    "for n in range(10,-1,-1):\n",
    "    phi = phi_n(x, n)\n",
    "    y = phi - ymax + max(phi)\n",
    "    ymax -=  min(phi) - max(phi)\n",
    "    trace = go.Scatter(x=x, y=y, mode='lines', name=f'n={n}')\n",
    "    fig.add_trace(trace)\n",
    "fig.update_layout(\n",
    "    xaxis_title='x [m]',\n",
    "    yaxis_title=r'φ(x)',\n",
    "    title=f'Figura 2. Funciones de onda.'\n",
    ")\n",
    "fig.update_yaxes(showticklabels=False)\n",
    "fig.show()"
   ]
  },
  {
   "cell_type": "code",
   "execution_count": null,
   "metadata": {},
   "outputs": [],
   "source": [
    "n = 0\n",
    "fig = go.Figure(data=go.Scatter(x=x, y=np.abs(phi_n(x, n))**2, mode='markers'))\n",
    "fig.update_layout(\n",
    "    xaxis_title='x [m]',\n",
    "    yaxis_title=r'|φ(x)|^2',\n",
    "    title=f'Figura 3. Densidad de probabilidad para n={n}.'\n",
    ")\n",
    "fig.show()"
   ]
  },
  {
   "cell_type": "code",
   "execution_count": null,
   "metadata": {},
   "outputs": [],
   "source": [
    "fig = go.Figure()\n",
    "ymax = 0\n",
    "for n in range(10,-1,-1):\n",
    "    phi = phi_n(x, n)**2\n",
    "    y = phi - ymax + max(phi)\n",
    "    ymax -=  min(phi) - max(phi)\n",
    "    trace = go.Scatter(x=x, y=y, mode='lines', name=f'n={n}')\n",
    "    fig.add_trace(trace)\n",
    "fig.update_layout(\n",
    "    xaxis_title='x [m]',\n",
    "    yaxis_title=r'|φ(x)|^2',\n",
    "    title='Figura 4. Densidades de probabilidad'\n",
    ")\n",
    "fig.update_yaxes(showticklabels=False)\n",
    "fig.show()"
   ]
  },
  {
   "attachments": {},
   "cell_type": "markdown",
   "metadata": {},
   "source": [
    "## 5. Preguntas de autoexplicación\n",
    "\n",
    "5.1. Defina los operadores creación $\\hat{a}^\\dag$ y aniquilación $\\hat{a}$.\n",
    "\n",
    "5.2. Re-escriba el hamiltoniano escrito en el planteamiento del problema en términos de los operadores de creación y aniquilación.\n",
    "\n",
    "5.3. Demuestre que $[\\hat{a}, \\hat{a}^\\dag] = 1$.\n",
    "\n",
    "5.4. Demuestre que el operador número $\\hat{N} = \\hat{a}^\\dag \\hat{a}$ es hermítico y conmuta con el hamiltoniano.\n",
    "\n",
    "5.5. Obtenga las relaciones de conmutación entre el operador número y los operadores creación y aniquilación.\n",
    "\n",
    "5.6. Describa el efecto de los operadores creación y aniquilación sobre un vector propio del operador número, $|n\\rangle$.\n",
    "\n",
    "5.7. Demuestre que los valores propios del operador número son números enteros mayores o iguales que cero.\n",
    "\n",
    "5.8. Obtenga la expresión para la función de onda del estado más bajo, $\\varphi_0(x)$.\n",
    "\n",
    "5.9. Obtenga la expresión para la función de onda del estado n-ésimo, $\\varphi_n(x)$.\n",
    "\n",
    "5.10. Demuestre que el producto de las incertidumbres para la posición, $\\Delta x$, y el momentum, $\\Delta p$, está dado por $\\Delta x \\Delta p \\geq \\hbar ( n + 1/2 )$. \n",
    "\n",
    "5.11. ¿Cuándo se obtiene el valor más bajo en la relación de incertidumbre para la posición y el momentum? Argumente su respuesta.\n",
    "\n",
    "5.12. Calcule y grafique la evolución temporal de los valores esperados para la posición y el momentum."
   ]
  },
  {
   "attachments": {},
   "cell_type": "markdown",
   "metadata": {},
   "source": [
    "End!"
   ]
  }
 ],
 "metadata": {
  "kernelspec": {
   "display_name": "base",
   "language": "python",
   "name": "python3"
  },
  "language_info": {
   "codemirror_mode": {
    "name": "ipython",
    "version": 3
   },
   "file_extension": ".py",
   "mimetype": "text/x-python",
   "name": "python",
   "nbconvert_exporter": "python",
   "pygments_lexer": "ipython3",
   "version": "3.9.7"
  },
  "orig_nbformat": 4
 },
 "nbformat": 4,
 "nbformat_minor": 2
}
