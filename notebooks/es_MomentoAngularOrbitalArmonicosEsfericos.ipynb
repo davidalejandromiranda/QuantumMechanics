{
 "cells": [
  {
   "attachments": {},
   "cell_type": "markdown",
   "metadata": {},
   "source": [
    "<h1 align=\"center\">Momento angular orbital y armónicos esféricos</h1>\n",
    "<div align=\"right\">David A. Miranda, PhD<br>2023</div>"
   ]
  },
  {
   "attachments": {},
   "cell_type": "markdown",
   "metadata": {},
   "source": [
    "## 1. Cargar librería"
   ]
  },
  {
   "cell_type": "code",
   "execution_count": null,
   "metadata": {},
   "outputs": [],
   "source": [
    "import numpy as np\n",
    "import scipy.special as sp\n",
    "import plotly.graph_objects as go"
   ]
  },
  {
   "attachments": {},
   "cell_type": "markdown",
   "metadata": {},
   "source": [
    "## 2. Planteamiento del problema\n",
    "\n",
    "Teniendo en cuenta que los operadores magnitud al cuadrado $\\hat{L}^2$, así como $\\hat{L}_x$, $\\hat{L}_y$, $\\hat{L}_z$ y los operadores escalera $\\hat{L}_\\pm = \\hat{L}_x \\pm i \\hat{L}_x$, caracterizan el momento angular orbital en mecánica cuántica, donde,\n",
    "\n",
    "$$[\\hat{L}_x, \\hat{L}_y] = i\\hbar\\hat{L}_z$$\n",
    "$$[\\hat{L}_y, \\hat{L}_z] = i\\hbar\\hat{L}_z$$\n",
    "$$[\\hat{L}_z, \\hat{L}_x] = i\\hbar\\hat{L}_y$$\n",
    "\n",
    "Y dado que los observables $\\hat{L}^2$ y $\\hat{L}_z$ conmutan, haciendo que estos comparten una base común, $\\vert k, l, m\\rangle$, tal que,\n",
    "\n",
    "$$\\hat{L}^2 \\vert k, l, m\\rangle = \\hbar^2 l(l+1) \\vert k, l, m\\rangle$$\n",
    "$$\\hat{L}_z \\vert k, l, m\\rangle = \\hbar m \\vert k, l, m\\rangle$$\n",
    "\n",
    "Además, teniendo presente que la proyección del vector de estado $\\vert k, l, m\\rangle$ sobre la base espacial $\\{ \\vert \\theta, \\varphi \\rangle \\}$, en coordenadas esféricas, conduce a los armónicos esféricos, \n",
    "\n",
    "$$Y_l^m(\\theta, \\varphi) = \\langle \\theta, \\varphi \\vert k, l, m\\rangle$$\n",
    "\n",
    "Obtenga la representación gráfica de los armónicos esféricos para diferentes valores de $l$ y $m$."
   ]
  },
  {
   "attachments": {},
   "cell_type": "markdown",
   "metadata": {},
   "source": [
    "## 3. Métodos y definiciones"
   ]
  },
  {
   "cell_type": "code",
   "execution_count": null,
   "metadata": {},
   "outputs": [],
   "source": [
    "def plot_spherical_harmonics(l, m, r0=[0, 0, 0], fig=None, title='Armónicos Esféricos', cmin=-0.5, cmax=0.5):\n",
    "    # Generar una malla de puntos en la esfera\n",
    "    theta = np.linspace(0, 2 * np.pi, 100)\n",
    "    phi = np.linspace(0, np.pi, 50)\n",
    "    theta, phi = np.meshgrid(theta, phi)\n",
    "\n",
    "    # Calcular los armónicos esféricos para los puntos en la malla\n",
    "    Y_lm = sp.sph_harm(m, l, theta, phi)\n",
    "\n",
    "    # Convertir las coordenadas esféricas a cartesianas\n",
    "    x0, y0, z0 = r0\n",
    "    x = x0 + np.sin(phi) * np.cos(theta)\n",
    "    y = y0 + np.sin(phi) * np.sin(theta)\n",
    "    z = z0 + np.cos(phi)\n",
    "\n",
    "    # Crear la figura tridimensional\n",
    "    this_sp = go.Surface(x=x, y=y, z=z, surfacecolor=Y_lm.real, colorscale='Viridis', cmin=cmin, cmax=cmax)\n",
    "    if fig == None:\n",
    "        fig = go.Figure()\n",
    "    fig.add_trace(this_sp)\n",
    "\n",
    "    # Agregar etiqueta\n",
    "    annotations = list(fig.layout.scene.annotations)\n",
    "    annotations.append(dict(\n",
    "        x=0+x0, y=0+y0, z=1.1+z0,  # Posición de la etiqueta\n",
    "        text=f'l={l}, m={m}',  # Texto de la etiqueta\n",
    "        showarrow=False,  # Sin flecha de referencia\n",
    "        font=dict(color=\"black\", size=12)  # Configuración de fuente\n",
    "    ))\n",
    "\n",
    "    # Definir las propiedades del gráfico\n",
    "    fig.update_layout(\n",
    "        title=title,\n",
    "        scene=dict(\n",
    "            xaxis_title='x',\n",
    "            yaxis_title='y',\n",
    "            zaxis_title='z',\n",
    "            aspectmode='data',\n",
    "            aspectratio=dict(x=1, y=1, z=1),\n",
    "            xaxis=dict(showticklabels=False, ticks=''),\n",
    "            yaxis=dict(showticklabels=False, ticks=''),\n",
    "            zaxis=dict(showticklabels=False, ticks=''),\n",
    "            annotations=annotations\n",
    "        )\n",
    "    )\n",
    "    return fig"
   ]
  },
  {
   "cell_type": "code",
   "execution_count": null,
   "metadata": {},
   "outputs": [],
   "source": [
    "def plot_all_spherical_harmonics(l, y0=0, fig=None, title='Armónicos Esféricos', cmin=-0.5, cmax=0.5):\n",
    "    this_fig = fig if fig != None else None\n",
    "    for i, m in enumerate(np.arange(l,-l-1,-1)):\n",
    "        this_fig = plot_spherical_harmonics(l, m, r0=[(i-l)*2.1, y0, 0], fig=this_fig, title=title, cmin=cmin, cmax=cmax)\n",
    "    return this_fig"
   ]
  },
  {
   "attachments": {},
   "cell_type": "markdown",
   "metadata": {},
   "source": [
    "## 4. Gráficos de los armónicos esféricos"
   ]
  },
  {
   "cell_type": "code",
   "execution_count": null,
   "metadata": {},
   "outputs": [],
   "source": [
    "l = 1; m = -1\n",
    "fig = plot_spherical_harmonics(l, m, title=f'Figura 1. Armónico esférico para l={l}, m={m}')\n",
    "fig.show()"
   ]
  },
  {
   "cell_type": "code",
   "execution_count": null,
   "metadata": {},
   "outputs": [],
   "source": [
    "l = 2\n",
    "fig = plot_all_spherical_harmonics(l, title=f'Figura 2. Armónicos esféricos para l={l}')\n",
    "fig.show()"
   ]
  },
  {
   "cell_type": "code",
   "execution_count": null,
   "metadata": {},
   "outputs": [],
   "source": [
    "fig = None\n",
    "for i, l in enumerate(range(2+1)):\n",
    "    fig = plot_all_spherical_harmonics(l, y0=i*2.1, fig=fig, title=f'Figura 3. Armónicos esféricos')\n",
    "fig.show()"
   ]
  },
  {
   "attachments": {},
   "cell_type": "markdown",
   "metadata": {},
   "source": [
    "## 5. Preguntas de autoexplicación\n",
    "\n",
    "5.1. Escriba los operadores de momento angular orbital en representación espacial; use coordenadas esféricas.\n",
    "\n",
    "5.2. A partir de la representación espacial de los operadores escalera, obtenga las relaciones de recurrencia para obtener los armónicos esféricos.\n",
    "\n",
    "5.3. Obtenga la relación de incertidumbre entre las componentes cartesianas del operador vector de momento angular:\n",
    "$$\\Delta \\hat{L}_x \\Delta \\hat{L}_y \\geq \\frac{\\hbar}{2} \\vert \\langle \\hat{L}_z \\rangle \\vert$$\n",
    "\n",
    "5.4. Obtenga el efecto del operador $\\hat{R}_z(\\alpha) = e^{-i \\alpha \\hat{L}_z / \\hbar}$ sobre un armónico esférico. *Sugerencia*: recuerde el tratamiento realizado para el operador traslación en un eje x, $\\hat{T}_{x}(x_0) = e^{-i\\hat{p}_x x_0 /\\hbar}$, donde $\\hat{p}_x$ es el operador momentum en x; note que este operador desplaza en $x_0$ a un estado $\\vert x \\rangle$, es decir, $\\hat{T}_{x}(x_0) \\vert x \\rangle = \\vert x + x_0 \\rangle$ y cuando actúa sobre un estado $|\\psi\\rangle$ y se proyecta en el espacio (sobre x), el efecto corresponde con desplazar la función de onda en $-x_0$, es decir, $\\langle x \\vert \\hat{T}_{x_0} \\vert \\psi \\rangle= \\langle x - x_0 \\vert \\psi \\rangle = \\psi(x - x_0)$.\n",
    "\n",
    "5.5. En las Figuras 1, 2 y 3 se presentan diferentes representaciones de los armónicos esféricos sobre una esfera de radio uno. Describa cómo varían los armónicos esféricos a medida que cambia el valor de $l$. En su respuesta, analice tanto los valores para $ l \\leq 2$ como valores para $l > 2$."
   ]
  },
  {
   "attachments": {},
   "cell_type": "markdown",
   "metadata": {},
   "source": [
    "End!"
   ]
  }
 ],
 "metadata": {
  "kernelspec": {
   "display_name": "base",
   "language": "python",
   "name": "python3"
  },
  "language_info": {
   "codemirror_mode": {
    "name": "ipython",
    "version": 3
   },
   "file_extension": ".py",
   "mimetype": "text/x-python",
   "name": "python",
   "nbconvert_exporter": "python",
   "pygments_lexer": "ipython3",
   "version": "3.9.7"
  },
  "orig_nbformat": 4
 },
 "nbformat": 4,
 "nbformat_minor": 2
}
