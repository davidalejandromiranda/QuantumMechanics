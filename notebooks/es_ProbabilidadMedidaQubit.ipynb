{
 "cells": [
  {
   "attachments": {},
   "cell_type": "markdown",
   "metadata": {},
   "source": [
    "<h1 align=\"center\">Modelado de la medición cuántica con un qubit empleando la esfera de Bloch y argumentos geométricos</h1>\n",
    "<div align=\"right\">David A. Miranda, PhD<br>2023</div>"
   ]
  },
  {
   "attachments": {},
   "cell_type": "markdown",
   "metadata": {},
   "source": [
    "## 1. Cargar librerías"
   ]
  },
  {
   "cell_type": "code",
   "execution_count": 1,
   "metadata": {},
   "outputs": [],
   "source": [
    "import numpy as np"
   ]
  },
  {
   "attachments": {},
   "cell_type": "markdown",
   "metadata": {},
   "source": [
    "## 2. Planteamiento del problema\n",
    "\n",
    "Sea un sistema en un espacio de Hilbert de dimensión dos, cuyo estádo está determinado por $|\\psi(t)\\rangle$. La probabilidad que al medir el observable $\\hat{A}$, tal que $\\hat{A}|a\\rangle = a |a\\rangle$, donde $a=\\{a_0, a_1\\}$, está dado por $|\\langle a | \\psi(t)\\rangle|^2$. Como el estado del sistema corresponde con un qubit, el cual se puede representar en una esfera de Bloch, se puede determinar geométricamente la probabilidad en términos de la longitud de arco $S(\\psi, a_0)$ entre el vector propio $|a\\rangle$ y el vector de estado $|\\psi(t)\\rangle$, y el máximo arco (circunferencia centrada con la esfera) dado por $S_T$:\n",
    "\n",
    "$$\\vec{\\psi} =  \\begin{bmatrix}\n",
    "\\cos(\\varphi_\\psi) \\sin(\\theta_\\psi/2) \\\\\n",
    "\\sin(\\varphi_\\psi) \\sin(\\theta_\\psi/2) \\\\\n",
    "\\cos(\\theta_\\psi/2)\n",
    "\\end{bmatrix}$$\n",
    "\n",
    "$$\\vec{a}_0 =  \\begin{bmatrix}\n",
    "\\cos(\\varphi_{a_0}) \\sin(\\theta_{a_0}/2) \\\\\n",
    "\\sin(\\varphi_{a_0}) \\sin(\\theta_{a_0}/2) \\\\\n",
    "\\cos(\\theta_{a_0}/2)\n",
    "\\end{bmatrix}$$\n",
    "\n",
    "$$|\\langle a_0 | \\psi(t)\\rangle|^2 = |\\vec{a}_1 \\cdot \\vec{\\psi}|^2 = [ \\cos(\\gamma) ]^2 $$\n",
    "\n",
    "$$\\gamma = 2\\pi \\frac{S(\\psi, a_0)}{S_T}$$ \n",
    "\n",
    "Modele el proceso de medición cuántica a partir de una variable aleatoria con distribución binomial, donde la probabilidad está dada por $[ \\cos(\\gamma) ]^2$."
   ]
  },
  {
   "attachments": {},
   "cell_type": "markdown",
   "metadata": {},
   "source": [
    "<img src=\"https://docs.google.com/drawings/d/e/2PACX-1vR4RMbU_UlSD2f6TYL8G-MPDiNLr__suCnwpBoa81dCvqk89jTU7GPpqDwCQ2RAoHwVCKNZoGxPjUci/pub?w=960&amp;h=720\">"
   ]
  },
  {
   "attachments": {},
   "cell_type": "markdown",
   "metadata": {},
   "source": [
    "## 3. Obtención de la probabilidad de obtener $a$ al realizar la medición del observable $\\hat{A}$"
   ]
  },
  {
   "cell_type": "code",
   "execution_count": 2,
   "metadata": {},
   "outputs": [],
   "source": [
    "a = [2, 4] # Los dos posibles valores a medir: valores propios del observable A\n",
    "a_vec = ['|a0⟩', '|a1⟩']"
   ]
  },
  {
   "cell_type": "code",
   "execution_count": 3,
   "metadata": {},
   "outputs": [
    {
     "name": "stdout",
     "output_type": "stream",
     "text": [
      "Probabilidad de obtener 2 al medir A: 0.531\n",
      "Valor medido: 2\n",
      "Vector propio medido |a0⟩\n"
     ]
    }
   ],
   "source": [
    "longitud_arco_entre_estado_y_vector_propio = 12 # cm\n",
    "longitud_arco_circunferencia_centrada_en_esfera = 100 # cm\n",
    "γ = 2 * np.pi * longitud_arco_entre_estado_y_vector_propio / longitud_arco_circunferencia_centrada_en_esfera\n",
    "p = ( np.cos(γ) )**2\n",
    "k = np.random.binomial(1, (1-p))\n",
    "print(f'Probabilidad de obtener {a[0]} al medir A:', np.round(p,3))\n",
    "print(f'Valor medido:', a[k])\n",
    "print(f'Vector propio medido', a_vec[k])"
   ]
  },
  {
   "attachments": {},
   "cell_type": "markdown",
   "metadata": {},
   "source": [
    "end!"
   ]
  }
 ],
 "metadata": {
  "kernelspec": {
   "display_name": "base",
   "language": "python",
   "name": "python3"
  },
  "language_info": {
   "codemirror_mode": {
    "name": "ipython",
    "version": 3
   },
   "file_extension": ".py",
   "mimetype": "text/x-python",
   "name": "python",
   "nbconvert_exporter": "python",
   "pygments_lexer": "ipython3",
   "version": "3.9.12"
  },
  "orig_nbformat": 4
 },
 "nbformat": 4,
 "nbformat_minor": 2
}
